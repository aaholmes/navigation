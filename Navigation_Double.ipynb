{
 "cells": [
  {
   "cell_type": "markdown",
   "metadata": {},
   "source": [
    "# Navigation\n",
    "\n",
    "---\n",
    "\n",
    "In this notebook, you will learn how to use the Unity ML-Agents environment for the first project of the [Deep Reinforcement Learning Nanodegree](https://www.udacity.com/course/deep-reinforcement-learning-nanodegree--nd893).\n",
    "\n",
    "### 1. Start the Environment\n",
    "\n",
    "We begin by importing some necessary packages.  If the code cell below returns an error, please revisit the project instructions to double-check that you have installed [Unity ML-Agents](https://github.com/Unity-Technologies/ml-agents/blob/master/docs/Installation.md) and [NumPy](http://www.numpy.org/)."
   ]
  },
  {
   "cell_type": "code",
   "execution_count": 1,
   "metadata": {},
   "outputs": [],
   "source": [
    "from unityagents import UnityEnvironment\n",
    "import numpy as np\n",
    "import torch\n",
    "from collections import deque\n",
    "import matplotlib.pyplot as plt\n",
    "%matplotlib inline"
   ]
  },
  {
   "cell_type": "markdown",
   "metadata": {},
   "source": [
    "Next, we will start the environment!  **_Before running the code cell below_**, change the `file_name` parameter to match the location of the Unity environment that you downloaded.\n",
    "\n",
    "- **Mac**: `\"path/to/Banana.app\"`\n",
    "- **Windows** (x86): `\"path/to/Banana_Windows_x86/Banana.exe\"`\n",
    "- **Windows** (x86_64): `\"path/to/Banana_Windows_x86_64/Banana.exe\"`\n",
    "- **Linux** (x86): `\"path/to/Banana_Linux/Banana.x86\"`\n",
    "- **Linux** (x86_64): `\"path/to/Banana_Linux/Banana.x86_64\"`\n",
    "- **Linux** (x86, headless): `\"path/to/Banana_Linux_NoVis/Banana.x86\"`\n",
    "- **Linux** (x86_64, headless): `\"path/to/Banana_Linux_NoVis/Banana.x86_64\"`\n",
    "\n",
    "For instance, if you are using a Mac, then you downloaded `Banana.app`.  If this file is in the same folder as the notebook, then the line below should appear as follows:\n",
    "```\n",
    "env = UnityEnvironment(file_name=\"Banana.app\")\n",
    "```"
   ]
  },
  {
   "cell_type": "code",
   "execution_count": 2,
   "metadata": {},
   "outputs": [
    {
     "name": "stderr",
     "output_type": "stream",
     "text": [
      "INFO:unityagents:\n",
      "'Academy' started successfully!\n",
      "Unity Academy name: Academy\n",
      "        Number of Brains: 1\n",
      "        Number of External Brains : 1\n",
      "        Lesson number : 0\n",
      "        Reset Parameters :\n",
      "\t\t\n",
      "Unity brain name: BananaBrain\n",
      "        Number of Visual Observations (per agent): 0\n",
      "        Vector Observation space type: continuous\n",
      "        Vector Observation space size (per agent): 37\n",
      "        Number of stacked Vector Observation: 1\n",
      "        Vector Action space type: discrete\n",
      "        Vector Action space size (per agent): 4\n",
      "        Vector Action descriptions: , , , \n"
     ]
    }
   ],
   "source": [
    "env = UnityEnvironment(file_name=\"Banana.app\", no_graphics=True)\n",
    "\n",
    "# Select the default brain\n",
    "brain_name = env.brain_names[0]\n",
    "brain = env.brains[brain_name]"
   ]
  },
  {
   "cell_type": "markdown",
   "metadata": {},
   "source": [
    "Environments contain **_brains_** which are responsible for deciding the actions of their associated agents. Here we check for the first brain available, and set it as the default brain we will be controlling from Python."
   ]
  },
  {
   "cell_type": "code",
   "execution_count": 3,
   "metadata": {},
   "outputs": [],
   "source": [
    "# get the default brain\n",
    "brain_name = env.brain_names[0]\n",
    "brain = env.brains[brain_name]"
   ]
  },
  {
   "cell_type": "markdown",
   "metadata": {},
   "source": [
    "### 2. Examine the State and Action Spaces\n",
    "\n",
    "The simulation contains a single agent that navigates a large environment.  At each time step, it has four actions at its disposal:\n",
    "- `0` - walk forward \n",
    "- `1` - walk backward\n",
    "- `2` - turn left\n",
    "- `3` - turn right\n",
    "\n",
    "The state space has `37` dimensions and contains the agent's velocity, along with ray-based perception of objects around agent's forward direction.  A reward of `+1` is provided for collecting a yellow banana, and a reward of `-1` is provided for collecting a blue banana. \n",
    "\n",
    "Run the code cell below to print some information about the environment."
   ]
  },
  {
   "cell_type": "code",
   "execution_count": 4,
   "metadata": {},
   "outputs": [
    {
     "name": "stdout",
     "output_type": "stream",
     "text": [
      "Number of agents: 1\n",
      "Number of actions: 4\n",
      "States look like: [1.         0.         0.         0.         0.84408134 0.\n",
      " 0.         1.         0.         0.0748472  0.         1.\n",
      " 0.         0.         0.25755    1.         0.         0.\n",
      " 0.         0.74177343 0.         1.         0.         0.\n",
      " 0.25854847 0.         0.         1.         0.         0.09355672\n",
      " 0.         1.         0.         0.         0.31969345 0.\n",
      " 0.        ]\n",
      "States have length: 37\n"
     ]
    }
   ],
   "source": [
    "# reset the environment\n",
    "env_info = env.reset(train_mode=True)[brain_name]\n",
    "\n",
    "# number of agents in the environment\n",
    "print('Number of agents:', len(env_info.agents))\n",
    "\n",
    "# number of actions\n",
    "action_size = brain.vector_action_space_size\n",
    "print('Number of actions:', action_size)\n",
    "\n",
    "# examine the state space \n",
    "state = env_info.vector_observations[0]\n",
    "print('States look like:', state)\n",
    "state_size = len(state)\n",
    "print('States have length:', state_size)"
   ]
  },
  {
   "cell_type": "markdown",
   "metadata": {},
   "source": [
    "### Train a DQN\n",
    "using simple Q-learning, defining Q to be a 3-layer NN"
   ]
  },
  {
   "cell_type": "code",
   "execution_count": 5,
   "metadata": {},
   "outputs": [
    {
     "name": "stdout",
     "output_type": "stream",
     "text": [
      "Creating new Double DQN agent\n",
      "Initializing replay buffer with buffer size 30000 and batch size 64 with gamma= 0.95\n"
     ]
    }
   ],
   "source": [
    "from dqn_agent import Agent\n",
    "\n",
    "agent = Agent(state_size=state_size, action_size=action_size, seed=0, ddqn=True)"
   ]
  },
  {
   "cell_type": "code",
   "execution_count": 6,
   "metadata": {},
   "outputs": [
    {
     "name": "stdout",
     "output_type": "stream",
     "text": [
      "Episode 8\tEps: 0.369\tBatch size: 64\tScore: 0\tMax Score: 2\tAverage Score Last 10: 0.25\tAverage Score Last 100: 0.250\t\n",
      "Episode 16\tEps: 0.341\tBatch size: 64\tScore: 5\tMax Score: 5\tAverage Score Last 10: 1.50\tAverage Score Last 100: 1.06\t\n",
      "Episode 24\tEps: 0.314\tBatch size: 64\tScore: 4\tMax Score: 7\tAverage Score Last 10: 2.80\tAverage Score Last 100: 1.62\t\n",
      "Episode 33\tEps: 0.287\tBatch size: 64\tScore: 4\tMax Score: 10\tAverage Score Last 10: 5.30\tAverage Score Last 100: 2.675\t\n",
      "Episode 41\tEps: 0.265\tBatch size: 64\tScore: 1\tMax Score: 10\tAverage Score Last 10: 5.70\tAverage Score Last 100: 3.248\t\n",
      "Episode 49\tEps: 0.244\tBatch size: 64\tScore: 5\tMax Score: 12\tAverage Score Last 10: 7.80\tAverage Score Last 100: 4.148\t\n",
      "Episode 58\tEps: 0.223\tBatch size: 64\tScore: 14\tMax Score: 14\tAverage Score Last 10: 7.40\tAverage Score Last 100: 4.69\t\n",
      "Episode 66\tEps: 0.206\tBatch size: 64\tScore: 18\tMax Score: 18\tAverage Score Last 10: 8.30\tAverage Score Last 100: 5.08\t\n",
      "Episode 74\tEps: 0.190\tBatch size: 64\tScore: 13\tMax Score: 18\tAverage Score Last 10: 10.80\tAverage Score Last 100: 5.68\t\n",
      "Episode 83\tEps: 0.174\tBatch size: 64\tScore: 8\tMax Score: 18\tAverage Score Last 10: 9.20\tAverage Score Last 100: 6.0129\t\n",
      "Episode 91\tEps: 0.160\tBatch size: 64\tScore: 8\tMax Score: 18\tAverage Score Last 10: 8.50\tAverage Score Last 100: 6.308\t\n",
      "Episode 99\tEps: 0.148\tBatch size: 64\tScore: 8\tMax Score: 18\tAverage Score Last 10: 9.50\tAverage Score Last 100: 6.5755\t\n",
      "Episode 108\tEps: 0.135\tBatch size: 64\tScore: 7\tMax Score: 18\tAverage Score Last 10: 10.10\tAverage Score Last 100: 7.410\t\n",
      "Episode 116\tEps: 0.125\tBatch size: 64\tScore: 13\tMax Score: 18\tAverage Score Last 10: 11.20\tAverage Score Last 100: 8.27\t\n",
      "Episode 124\tEps: 0.115\tBatch size: 64\tScore: 11\tMax Score: 18\tAverage Score Last 10: 10.90\tAverage Score Last 100: 8.85\t\n",
      "Episode 133\tEps: 0.105\tBatch size: 64\tScore: 20\tMax Score: 20\tAverage Score Last 10: 13.50\tAverage Score Last 100: 9.60\t\n",
      "Episode 141\tEps: 0.097\tBatch size: 64\tScore: 11\tMax Score: 20\tAverage Score Last 10: 13.30\tAverage Score Last 100: 10.08\t\n",
      "Episode 149\tEps: 0.089\tBatch size: 64\tScore: 11\tMax Score: 20\tAverage Score Last 10: 11.80\tAverage Score Last 100: 10.34\t\n",
      "Episode 158\tEps: 0.082\tBatch size: 64\tScore: 14\tMax Score: 20\tAverage Score Last 10: 12.00\tAverage Score Last 100: 10.74\t\n",
      "Episode 166\tEps: 0.075\tBatch size: 64\tScore: 11\tMax Score: 20\tAverage Score Last 10: 13.40\tAverage Score Last 100: 11.21\t\n",
      "Episode 174\tEps: 0.070\tBatch size: 64\tScore: 14\tMax Score: 20\tAverage Score Last 10: 14.20\tAverage Score Last 100: 11.50\t\n",
      "Episode 183\tEps: 0.064\tBatch size: 64\tScore: 11\tMax Score: 20\tAverage Score Last 10: 13.60\tAverage Score Last 100: 11.93\t\n",
      "Episode 191\tEps: 0.059\tBatch size: 64\tScore: 15\tMax Score: 20\tAverage Score Last 10: 14.50\tAverage Score Last 100: 12.36\t\n",
      "Episode 199\tEps: 0.054\tBatch size: 64\tScore: 8\tMax Score: 20\tAverage Score Last 10: 12.00\tAverage Score Last 100: 12.533\t\n",
      "Episode 208\tEps: 0.049\tBatch size: 64\tScore: 9\tMax Score: 20\tAverage Score Last 10: 11.80\tAverage Score Last 100: 12.708\t\n",
      "Episode 216\tEps: 0.046\tBatch size: 64\tScore: 20\tMax Score: 22\tAverage Score Last 10: 14.90\tAverage Score Last 100: 12.99\t\n",
      "Episode 217\tEps: 0.045\tBatch size: 64\tScore: 10\tMax Score: 22\tAverage Score Last 10: 14.90\tAverage Score Last 100: 13.02\n",
      "Environment solved in 117 episodes!\tEps: 0.045\tGamma: 0.95\tAverage Score: 13.02\n"
     ]
    },
    {
     "data": {
      "image/png": "[encoded data removed]",
      "text/plain": [
       "<Figure size 432x288 with 1 Axes>"
      ]
     },
     "metadata": {
      "needs_background": "light"
     },
     "output_type": "display_data"
    }
   ],
   "source": [
    "def dqn(n_episodes=500, max_t=310, eps_start=0.4, eps_end=0.01, eps_decay=0.99, update_target_every=2500, update_batch_every=50000):\n",
    "    \"\"\"Deep Q-Learning.\n",
    "    \n",
    "    Params\n",
    "    ======\n",
    "        n_episodes (int): maximum number of training episodes\n",
    "        max_t (int): maximum number of timesteps per episode (this env stops after 303 anyway)\n",
    "        eps_start (float): starting value of epsilon, for epsilon-greedy action selection\n",
    "        eps_end (float): minimum value of epsilon\n",
    "        eps_decay (float): multiplicative factor (per episode) for decreasing epsilon\n",
    "        update_target_every (int): number of training timesteps between updates to target Q network\n",
    "    \"\"\"\n",
    "    scores = []                        # list containing scores from each episode\n",
    "    scores_window = deque(maxlen=100)  # last 100 scores\n",
    "    scores_window_10 = deque(maxlen=10)  # last 10 scores\n",
    "    eps = eps_start                    # initialize epsilon\n",
    "    tt = 0\n",
    "    max_score = -13\n",
    "    for i_episode in range(1, n_episodes+1):\n",
    "        state = env.reset(train_mode=True)[brain_name].vector_observations[0]\n",
    "        score = 0\n",
    "        for t in range(max_t):\n",
    "            action = agent.act(state, eps)\n",
    "            env_info = env.step(action)[brain_name]        # send the action to the environment\n",
    "            next_state = env_info.vector_observations[0]   # get the next state\n",
    "            reward = env_info.rewards[0]                   # get the reward\n",
    "            done = env_info.local_done[0]                  # see if episode has finished\n",
    "            agent.step(state, action, reward, next_state, done)\n",
    "            state = next_state\n",
    "            score += reward\n",
    "            tt += 1\n",
    "            if tt % update_target_every == 0: # or (tt < (2 * update_target_every) and tt % (update_target_every / 4) == 0):\n",
    "                if not agent.ddqn:\n",
    "                    print(\"\\tUpdating target Q!\")\n",
    "                    agent.hard_update(tt % update_batch_every == 0)\n",
    "                else:\n",
    "                    print(\"\\t\")\n",
    "            if done:\n",
    "                break \n",
    "        scores_window.append(score)       # save most recent score\n",
    "        scores_window_10.append(score)       # save most recent score\n",
    "        scores.append(score)              # save most recent score\n",
    "        max_score = max(score, max_score)\n",
    "        eps = max(eps_end, eps_decay*eps) # decrease epsilon\n",
    "        print('\\rEpisode {}\\tEps: {:.3f}\\tBatch size: {:d}\\tScore: {:d}\\tMax Score: {:d}\\tAverage Score Last 10: {:.2f}\\tAverage Score Last 100: {:.2f}'.format(i_episode, eps, agent.batch_size, int(score), int(max_score), np.mean(scores_window_10), np.mean(scores_window)), end=\"\")\n",
    "        if np.mean(scores_window)>=13.0:\n",
    "            print('\\nEnvironment solved in {:d} episodes!\\tEps: {:.3f}\\tGamma: {:.2f}\\tAverage Score: {:.2f}'.format(i_episode-100, eps, agent.gamma, np.mean(scores_window)))\n",
    "            if not agent.ddqn:\n",
    "                torch.save(agent.qnetwork_local.state_dict(), 'checkpoint.pth')\n",
    "            else:\n",
    "                torch.save(agent.qnetwork1.state_dict(), 'checkpoint_Q1.pth')\n",
    "                torch.save(agent.qnetwork2.state_dict(), 'checkpoint_Q2.pth')\n",
    "            break\n",
    "    return scores\n",
    "\n",
    "scores = dqn()\n",
    "\n",
    "# plot the scores\n",
    "fig = plt.figure()\n",
    "ax = fig.add_subplot(111)\n",
    "plt.plot(np.arange(len(scores)), scores)\n",
    "plt.ylabel('Score')\n",
    "plt.xlabel('Episode #')\n",
    "plt.show()\n",
    "# 18 min for 500 episodes"
   ]
  },
  {
   "cell_type": "code",
   "execution_count": null,
   "metadata": {},
   "outputs": [],
   "source": []
  }
 ],
 "metadata": {
  "kernelspec": {
   "display_name": "drlnd",
   "language": "python",
   "name": "drlnd"
  },
  "language_info": {
   "codemirror_mode": {
    "name": "ipython",
    "version": 3
   },
   "file_extension": ".py",
   "mimetype": "text/x-python",
   "name": "python",
   "nbconvert_exporter": "python",
   "pygments_lexer": "ipython3",
   "version": "3.6.13"
  }
 },
 "nbformat": 4,
 "nbformat_minor": 2
}
