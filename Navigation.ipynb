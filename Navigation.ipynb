{
 "cells": [
  {
   "cell_type": "markdown",
   "metadata": {},
   "source": [
    "# Learning to Navigate\n",
    "\n",
    "---\n",
    "\n",
    "This notebook solves the Unity ML-Agents environment for the first project of the [Deep Reinforcement Learning Nanodegree](https://www.udacity.com/course/deep-reinforcement-learning-nanodegree--nd893)."
   ]
  },
  {
   "cell_type": "code",
   "execution_count": null,
   "metadata": {},
   "outputs": [],
   "source": [
    "from unityagents import UnityEnvironment\n",
    "import numpy as np\n",
    "import matplotlib.pyplot as plt\n",
    "%matplotlib inline\n",
    "\n",
    "from dqn_agent import Agent\n",
    "from train import dqn\n",
    "from utils import scores_to_file\n",
    "\n",
    "\n",
    "env = UnityEnvironment(file_name=\"Banana.app\", no_graphics=True)\n",
    "\n",
    "# Select the default brain\n",
    "brain_name = env.brain_names[0]\n",
    "brain = env.brains[brain_name]\n",
    "\n",
    "# reset the environment\n",
    "env_info = env.reset(train_mode=True)[brain_name]\n",
    "\n",
    "# number of actions\n",
    "action_size = brain.vector_action_space_size\n",
    "print('Number of actions:', action_size)\n",
    "\n",
    "# examine the state space \n",
    "state = env_info.vector_observations[0]\n",
    "print('States look like:', state)\n",
    "state_size = len(state)\n",
    "print('States have length:', state_size)"
   ]
  },
  {
   "cell_type": "code",
   "execution_count": null,
   "metadata": {},
   "outputs": [],
   "source": [
    "# Whether to use Double DQN (instead of vanilla DQN)\n",
    "ddqn = True\n",
    "\n",
    "# If ddqn is True, whether to use mean(Q1, Q2) (instead of random_choice(Q1, Q2))\n",
    "ddqn_mean = True\n",
    "\n",
    "\n",
    "if not ddqn:\n",
    "    # DQN\n",
    "    agent = Agent(state_size, action_size, seed=0, update_every=4)\n",
    "    scores = dqn(env, agent, brain_name, eps_start=0.4)\n",
    "else:\n",
    "    # Double DQN\n",
    "    agent = Agent(state_size, action_size, seed=0, ddqn=ddqn, ddqn_mean=ddqn_mean)\n",
    "    scores = dqn(env, agent, brain_name)"
   ]
  },
  {
   "cell_type": "code",
   "execution_count": null,
   "metadata": {},
   "outputs": [],
   "source": [
    "# Plot the scores from one run\n",
    "fig = plt.figure()\n",
    "ax = fig.add_subplot(111)\n",
    "plt.plot(np.arange(len(scores)), scores)\n",
    "plt.ylabel('Score')\n",
    "plt.xlabel('Episode #')\n",
    "plt.show()"
   ]
  },
  {
   "cell_type": "code",
   "execution_count": null,
   "metadata": {},
   "outputs": [],
   "source": [
    "# Close environment when done\n",
    "env.close()"
   ]
  },
  {
   "cell_type": "code",
   "execution_count": null,
   "metadata": {},
   "outputs": [],
   "source": [
    "# Run all 3 models 5 times each (this takes a long time)\n",
    "for seed in range(5):\n",
    "    # DQN\n",
    "    agent = Agent(state_size, action_size, seed, update_every=4)\n",
    "    scores = dqn(env, agent, brain_name, n_episodes=1000, eps_start=0.4)\n",
    "    scores_to_file(scores, \"results/dqn/\" + str(seed) + \".txt\")\n",
    "    # Double DQN, choose moves using mean(Q1, Q2)\n",
    "    agent = Agent(state_size, action_size, seed, ddqn=True)\n",
    "    cores = dqn(env, agent, brain_name)\n",
    "    scores_to_file(scores, \"results/ddqn/\" + str(seed) + \".txt\")\n",
    "    # Double DQN, choose moves using random_choice(Q1, Q2)\n",
    "    agent = Agent(state_size, action_size, seed, ddqn=True, ddqn_mean=False)\n",
    "    scores = dqn(env, agent, brain_name)\n",
    "    scores_to_file(scores, \"results/ddqn_rand/\" + str(seed) + \".txt\")\n"
   ]
  }
 ],
 "metadata": {
  "interpreter": {
   "hash": "ec4afbf0c90b25735c4ffe7e95247dd3a62fcc462b9d302acd8b15dfa91b9bf1"
  },
  "kernelspec": {
   "display_name": "drlnd",
   "language": "python",
   "name": "drlnd"
  },
  "language_info": {
   "codemirror_mode": {
    "name": "ipython",
    "version": 3
   },
   "file_extension": ".py",
   "mimetype": "text/x-python",
   "name": "python",
   "nbconvert_exporter": "python",
   "pygments_lexer": "ipython3",
   "version": "3.6.13"
  }
 },
 "nbformat": 4,
 "nbformat_minor": 2
}
