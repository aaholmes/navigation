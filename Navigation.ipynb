{
 "cells": [
  {
   "cell_type": "markdown",
   "metadata": {},
   "source": [
    "# Navigation\n",
    "\n",
    "---\n",
    "\n",
    "In this notebook, you will learn how to use the Unity ML-Agents environment for the first project of the [Deep Reinforcement Learning Nanodegree](https://www.udacity.com/course/deep-reinforcement-learning-nanodegree--nd893).\n",
    "\n",
    "### 1. Start the Environment\n",
    "\n",
    "We begin by importing some necessary packages.  If the code cell below returns an error, please revisit the project instructions to double-check that you have installed [Unity ML-Agents](https://github.com/Unity-Technologies/ml-agents/blob/master/docs/Installation.md) and [NumPy](http://www.numpy.org/)."
   ]
  },
  {
   "cell_type": "code",
   "execution_count": 1,
   "metadata": {},
   "outputs": [],
   "source": [
    "from unityagents import UnityEnvironment\n",
    "import numpy as np\n",
    "import torch\n",
    "from collections import deque\n",
    "import matplotlib.pyplot as plt\n",
    "%matplotlib inline"
   ]
  },
  {
   "cell_type": "markdown",
   "metadata": {},
   "source": [
    "Next, we will start the environment!  **_Before running the code cell below_**, change the `file_name` parameter to match the location of the Unity environment that you downloaded.\n",
    "\n",
    "- **Mac**: `\"path/to/Banana.app\"`\n",
    "- **Windows** (x86): `\"path/to/Banana_Windows_x86/Banana.exe\"`\n",
    "- **Windows** (x86_64): `\"path/to/Banana_Windows_x86_64/Banana.exe\"`\n",
    "- **Linux** (x86): `\"path/to/Banana_Linux/Banana.x86\"`\n",
    "- **Linux** (x86_64): `\"path/to/Banana_Linux/Banana.x86_64\"`\n",
    "- **Linux** (x86, headless): `\"path/to/Banana_Linux_NoVis/Banana.x86\"`\n",
    "- **Linux** (x86_64, headless): `\"path/to/Banana_Linux_NoVis/Banana.x86_64\"`\n",
    "\n",
    "For instance, if you are using a Mac, then you downloaded `Banana.app`.  If this file is in the same folder as the notebook, then the line below should appear as follows:\n",
    "```\n",
    "env = UnityEnvironment(file_name=\"Banana.app\")\n",
    "```"
   ]
  },
  {
   "cell_type": "code",
   "execution_count": 2,
   "metadata": {},
   "outputs": [
    {
     "name": "stderr",
     "output_type": "stream",
     "text": [
      "INFO:unityagents:\n",
      "'Academy' started successfully!\n",
      "Unity Academy name: Academy\n",
      "        Number of Brains: 1\n",
      "        Number of External Brains : 1\n",
      "        Lesson number : 0\n",
      "        Reset Parameters :\n",
      "\t\t\n",
      "Unity brain name: BananaBrain\n",
      "        Number of Visual Observations (per agent): 0\n",
      "        Vector Observation space type: continuous\n",
      "        Vector Observation space size (per agent): 37\n",
      "        Number of stacked Vector Observation: 1\n",
      "        Vector Action space type: discrete\n",
      "        Vector Action space size (per agent): 4\n",
      "        Vector Action descriptions: , , , \n"
     ]
    }
   ],
   "source": [
    "env = UnityEnvironment(file_name=\"Banana.app\", no_graphics=True)\n",
    "\n",
    "# Select the default brain\n",
    "brain_name = env.brain_names[0]\n",
    "brain = env.brains[brain_name]"
   ]
  },
  {
   "cell_type": "markdown",
   "metadata": {},
   "source": [
    "Environments contain **_brains_** which are responsible for deciding the actions of their associated agents. Here we check for the first brain available, and set it as the default brain we will be controlling from Python."
   ]
  },
  {
   "cell_type": "code",
   "execution_count": 3,
   "metadata": {},
   "outputs": [],
   "source": [
    "# get the default brain\n",
    "brain_name = env.brain_names[0]\n",
    "brain = env.brains[brain_name]"
   ]
  },
  {
   "cell_type": "markdown",
   "metadata": {},
   "source": [
    "### 2. Examine the State and Action Spaces\n",
    "\n",
    "The simulation contains a single agent that navigates a large environment.  At each time step, it has four actions at its disposal:\n",
    "- `0` - walk forward \n",
    "- `1` - walk backward\n",
    "- `2` - turn left\n",
    "- `3` - turn right\n",
    "\n",
    "The state space has `37` dimensions and contains the agent's velocity, along with ray-based perception of objects around agent's forward direction.  A reward of `+1` is provided for collecting a yellow banana, and a reward of `-1` is provided for collecting a blue banana. \n",
    "\n",
    "Run the code cell below to print some information about the environment."
   ]
  },
  {
   "cell_type": "code",
   "execution_count": 4,
   "metadata": {},
   "outputs": [
    {
     "name": "stdout",
     "output_type": "stream",
     "text": [
      "Number of agents: 1\n",
      "Number of actions: 4\n",
      "States look like: [1.         0.         0.         0.         0.84408134 0.\n",
      " 0.         1.         0.         0.0748472  0.         1.\n",
      " 0.         0.         0.25755    1.         0.         0.\n",
      " 0.         0.74177343 0.         1.         0.         0.\n",
      " 0.25854847 0.         0.         1.         0.         0.09355672\n",
      " 0.         1.         0.         0.         0.31969345 0.\n",
      " 0.        ]\n",
      "States have length: 37\n"
     ]
    }
   ],
   "source": [
    "# reset the environment\n",
    "env_info = env.reset(train_mode=True)[brain_name]\n",
    "\n",
    "# number of agents in the environment\n",
    "print('Number of agents:', len(env_info.agents))\n",
    "\n",
    "# number of actions\n",
    "action_size = brain.vector_action_space_size\n",
    "print('Number of actions:', action_size)\n",
    "\n",
    "# examine the state space \n",
    "state = env_info.vector_observations[0]\n",
    "print('States look like:', state)\n",
    "state_size = len(state)\n",
    "print('States have length:', state_size)"
   ]
  },
  {
   "cell_type": "markdown",
   "metadata": {},
   "source": [
    "### Train a DQN\n",
    "using simple Q-learning, defining Q to be a 3-layer NN"
   ]
  },
  {
   "cell_type": "code",
   "execution_count": 5,
   "metadata": {},
   "outputs": [
    {
     "name": "stdout",
     "output_type": "stream",
     "text": [
      "Initializing replay buffer with buffer size 30000 and batch size 64 with gamma= 0.95\n"
     ]
    }
   ],
   "source": [
    "from dqn_agent import Agent\n",
    "\n",
    "agent = Agent(state_size=state_size, action_size=action_size, seed=0)"
   ]
  },
  {
   "cell_type": "code",
   "execution_count": 6,
   "metadata": {},
   "outputs": [
    {
     "name": "stdout",
     "output_type": "stream",
     "text": [
      "Episode 8\tEps: 0.384\tBatch size: 64\tScore: -2\tMax Score: 3\tAverage Score Last 10: 0.12\tAverage Score Last 100: 0.12\tUpdating target Q!\n",
      "Episode 16\tEps: 0.369\tBatch size: 64\tScore: 1\tMax Score: 7\tAverage Score Last 10: 1.10\tAverage Score Last 100: 0.81\tUpdating target Q!\n",
      "Episode 24\tEps: 0.355\tBatch size: 64\tScore: 9\tMax Score: 9\tAverage Score Last 10: 3.70\tAverage Score Last 100: 2.04\tUpdating target Q!\n",
      "Episode 33\tEps: 0.339\tBatch size: 64\tScore: 5\tMax Score: 9\tAverage Score Last 10: 5.20\tAverage Score Last 100: 2.79\tUpdating target Q!\n",
      "Episode 41\tEps: 0.326\tBatch size: 64\tScore: 1\tMax Score: 9\tAverage Score Last 10: 5.10\tAverage Score Last 100: 3.151\tUpdating target Q!\n",
      "Episode 49\tEps: 0.313\tBatch size: 64\tScore: 6\tMax Score: 11\tAverage Score Last 10: 5.70\tAverage Score Last 100: 3.630\tUpdating target Q!\n",
      "Episode 58\tEps: 0.299\tBatch size: 64\tScore: 5\tMax Score: 12\tAverage Score Last 10: 4.60\tAverage Score Last 100: 3.767\tUpdating target Q!\n",
      "Episode 66\tEps: 0.287\tBatch size: 64\tScore: 4\tMax Score: 12\tAverage Score Last 10: 5.60\tAverage Score Last 100: 4.050\tUpdating target Q!\n",
      "Episode 74\tEps: 0.276\tBatch size: 64\tScore: 11\tMax Score: 12\tAverage Score Last 10: 7.50\tAverage Score Last 100: 4.47\tUpdating target Q!\n",
      "Episode 83\tEps: 0.264\tBatch size: 64\tScore: 9\tMax Score: 12\tAverage Score Last 10: 8.30\tAverage Score Last 100: 4.867\tUpdating target Q!\n",
      "Episode 91\tEps: 0.253\tBatch size: 64\tScore: 16\tMax Score: 16\tAverage Score Last 10: 10.10\tAverage Score Last 100: 5.35\tUpdating target Q!\n",
      "Episode 99\tEps: 0.244\tBatch size: 64\tScore: 14\tMax Score: 16\tAverage Score Last 10: 9.40\tAverage Score Last 100: 5.594\tUpdating target Q!\n",
      "Episode 108\tEps: 0.233\tBatch size: 64\tScore: 16\tMax Score: 16\tAverage Score Last 10: 10.10\tAverage Score Last 100: 6.39\tUpdating target Q!\n",
      "Episode 116\tEps: 0.224\tBatch size: 64\tScore: 3\tMax Score: 16\tAverage Score Last 10: 9.70\tAverage Score Last 100: 6.9869\tUpdating target Q!\n",
      "Episode 124\tEps: 0.215\tBatch size: 64\tScore: 11\tMax Score: 16\tAverage Score Last 10: 9.40\tAverage Score Last 100: 7.46\tUpdating target Q!\n",
      "Episode 133\tEps: 0.205\tBatch size: 64\tScore: 15\tMax Score: 16\tAverage Score Last 10: 9.50\tAverage Score Last 100: 7.879\tUpdating target Q!\n",
      "Episode 141\tEps: 0.197\tBatch size: 64\tScore: 9\tMax Score: 16\tAverage Score Last 10: 10.20\tAverage Score Last 100: 8.279\tUpdating target Q!\n",
      "Episode 149\tEps: 0.190\tBatch size: 64\tScore: 9\tMax Score: 16\tAverage Score Last 10: 11.20\tAverage Score Last 100: 8.663\tUpdating target Q!\n",
      "Episode 158\tEps: 0.181\tBatch size: 64\tScore: 6\tMax Score: 16\tAverage Score Last 10: 7.90\tAverage Score Last 100: 8.965\tUpdating target Q!\n",
      "Episode 166\tEps: 0.174\tBatch size: 64\tScore: 7\tMax Score: 16\tAverage Score Last 10: 9.00\tAverage Score Last 100: 9.211\tUpdating target Q!\n",
      "Episode 174\tEps: 0.167\tBatch size: 64\tScore: 8\tMax Score: 16\tAverage Score Last 10: 9.50\tAverage Score Last 100: 9.4143\tUpdating target Q!\n",
      "Episode 183\tEps: 0.160\tBatch size: 64\tScore: 13\tMax Score: 16\tAverage Score Last 10: 9.70\tAverage Score Last 100: 9.586\tUpdating target Q!\n",
      "Episode 191\tEps: 0.154\tBatch size: 64\tScore: 12\tMax Score: 16\tAverage Score Last 10: 12.50\tAverage Score Last 100: 9.74\tUpdating target Q!\n",
      "Episode 199\tEps: 0.148\tBatch size: 64\tScore: 9\tMax Score: 16\tAverage Score Last 10: 9.70\tAverage Score Last 100: 9.8186\tUpdating target Q!\n",
      "Episode 208\tEps: 0.141\tBatch size: 64\tScore: 11\tMax Score: 16\tAverage Score Last 10: 10.30\tAverage Score Last 100: 9.88\tUpdating target Q!\n",
      "Episode 216\tEps: 0.135\tBatch size: 64\tScore: 11\tMax Score: 17\tAverage Score Last 10: 11.60\tAverage Score Last 100: 10.16\tUpdating target Q!\n",
      "Episode 224\tEps: 0.130\tBatch size: 64\tScore: 16\tMax Score: 17\tAverage Score Last 10: 11.30\tAverage Score Last 100: 10.24\tUpdating target Q!\n",
      "Episode 233\tEps: 0.124\tBatch size: 64\tScore: 12\tMax Score: 17\tAverage Score Last 10: 11.70\tAverage Score Last 100: 10.41\tUpdating target Q!\n",
      "Episode 241\tEps: 0.120\tBatch size: 64\tScore: 11\tMax Score: 17\tAverage Score Last 10: 8.90\tAverage Score Last 100: 10.284\tUpdating target Q!\n",
      "Episode 249\tEps: 0.115\tBatch size: 64\tScore: 11\tMax Score: 20\tAverage Score Last 10: 11.00\tAverage Score Last 100: 10.34\tUpdating target Q!\n",
      "Episode 258\tEps: 0.110\tBatch size: 64\tScore: 6\tMax Score: 20\tAverage Score Last 10: 11.70\tAverage Score Last 100: 10.700\tUpdating target Q!\n",
      "Episode 266\tEps: 0.105\tBatch size: 64\tScore: 15\tMax Score: 20\tAverage Score Last 10: 11.50\tAverage Score Last 100: 10.91\tUpdating target Q!\n",
      "Episode 274\tEps: 0.101\tBatch size: 64\tScore: 18\tMax Score: 20\tAverage Score Last 10: 10.40\tAverage Score Last 100: 10.87\tUpdating target Q!\n",
      "Episode 283\tEps: 0.097\tBatch size: 64\tScore: 13\tMax Score: 20\tAverage Score Last 10: 12.70\tAverage Score Last 100: 11.07\tUpdating target Q!\n",
      "Episode 291\tEps: 0.093\tBatch size: 64\tScore: 16\tMax Score: 20\tAverage Score Last 10: 13.10\tAverage Score Last 100: 11.06\tUpdating target Q!\n",
      "Episode 299\tEps: 0.089\tBatch size: 64\tScore: 12\tMax Score: 23\tAverage Score Last 10: 12.60\tAverage Score Last 100: 11.29\tUpdating target Q!\n",
      "Episode 308\tEps: 0.085\tBatch size: 64\tScore: 14\tMax Score: 23\tAverage Score Last 10: 13.10\tAverage Score Last 100: 11.54\tUpdating target Q!\n",
      "Episode 316\tEps: 0.082\tBatch size: 64\tScore: 8\tMax Score: 23\tAverage Score Last 10: 11.80\tAverage Score Last 100: 11.469\tUpdating target Q!\n",
      "Episode 324\tEps: 0.079\tBatch size: 64\tScore: 19\tMax Score: 23\tAverage Score Last 10: 12.30\tAverage Score Last 100: 11.56\tUpdating target Q!\n",
      "Episode 333\tEps: 0.075\tBatch size: 64\tScore: 14\tMax Score: 23\tAverage Score Last 10: 14.40\tAverage Score Last 100: 11.80\tUpdating target Q!\n",
      "Episode 341\tEps: 0.072\tBatch size: 64\tScore: 18\tMax Score: 23\tAverage Score Last 10: 14.80\tAverage Score Last 100: 12.38\tUpdating target Q!\n",
      "Episode 349\tEps: 0.070\tBatch size: 64\tScore: 17\tMax Score: 23\tAverage Score Last 10: 12.30\tAverage Score Last 100: 12.43\tUpdating target Q!\n",
      "Episode 358\tEps: 0.066\tBatch size: 64\tScore: 13\tMax Score: 23\tAverage Score Last 10: 14.90\tAverage Score Last 100: 12.69\tUpdating target Q!\n",
      "Episode 366\tEps: 0.064\tBatch size: 64\tScore: 16\tMax Score: 23\tAverage Score Last 10: 14.20\tAverage Score Last 100: 12.92\tUpdating target Q!\n",
      "Episode 368\tEps: 0.063\tBatch size: 64\tScore: 14\tMax Score: 23\tAverage Score Last 10: 14.30\tAverage Score Last 100: 13.00\n",
      "Environment solved in 268 episodes!\tEps: 0.063\tGamma: 0.95\tAverage Score: 13.00\n"
     ]
    },
    {
     "data": {
      "image/png": "[encoded data removed]",
      "text/plain": [
       "<Figure size 432x288 with 1 Axes>"
      ]
     },
     "metadata": {
      "needs_background": "light"
     },
     "output_type": "display_data"
    }
   ],
   "source": [
    "def dqn(n_episodes=500, max_t=310, eps_start=0.4, eps_end=0.01, eps_decay=0.995, update_target_every=2500, update_batch_every=50000):\n",
    "    \"\"\"Deep Q-Learning.\n",
    "    \n",
    "    Params\n",
    "    ======\n",
    "        n_episodes (int): maximum number of training episodes\n",
    "        max_t (int): maximum number of timesteps per episode (this env stops after 303 anyway)\n",
    "        eps_start (float): starting value of epsilon, for epsilon-greedy action selection\n",
    "        eps_end (float): minimum value of epsilon\n",
    "        eps_decay (float): multiplicative factor (per episode) for decreasing epsilon\n",
    "        update_target_every (int): number of training timesteps between updates to target Q network\n",
    "    \"\"\"\n",
    "    scores = []                        # list containing scores from each episode\n",
    "    scores_window = deque(maxlen=100)  # last 100 scores\n",
    "    scores_window_10 = deque(maxlen=10)  # last 10 scores\n",
    "    eps = eps_start                    # initialize epsilon\n",
    "    tt = 0\n",
    "    max_score = -13\n",
    "    for i_episode in range(1, n_episodes+1):\n",
    "        state = env.reset(train_mode=True)[brain_name].vector_observations[0]\n",
    "        score = 0\n",
    "        for t in range(max_t):\n",
    "            action = agent.act(state, eps)\n",
    "            env_info = env.step(action)[brain_name]        # send the action to the environment\n",
    "            next_state = env_info.vector_observations[0]   # get the next state\n",
    "            reward = env_info.rewards[0]                   # get the reward\n",
    "            done = env_info.local_done[0]                  # see if episode has finished\n",
    "            agent.step(state, action, reward, next_state, done)\n",
    "            state = next_state\n",
    "            score += reward\n",
    "            tt += 1\n",
    "            if tt % update_target_every == 0: # or (tt < (2 * update_target_every) and tt % (update_target_every / 4) == 0):\n",
    "                print(\"\\tUpdating target Q!\")\n",
    "                agent.hard_update(tt % update_batch_every == 0)\n",
    "            if done:\n",
    "                break \n",
    "        scores_window.append(score)       # save most recent score\n",
    "        scores_window_10.append(score)       # save most recent score\n",
    "        scores.append(score)              # save most recent score\n",
    "        max_score = max(score, max_score)\n",
    "        eps = max(eps_end, eps_decay*eps) # decrease epsilon\n",
    "        print('\\rEpisode {}\\tEps: {:.3f}\\tBatch size: {:d}\\tScore: {:d}\\tMax Score: {:d}\\tAverage Score Last 10: {:.2f}\\tAverage Score Last 100: {:.2f}'.format(i_episode, eps, agent.batch_size, int(score), int(max_score), np.mean(scores_window_10), np.mean(scores_window)), end=\"\")\n",
    "        if np.mean(scores_window)>=13.0:\n",
    "            print('\\nEnvironment solved in {:d} episodes!\\tEps: {:.3f}\\tGamma: {:.2f}\\tAverage Score: {:.2f}'.format(i_episode-100, eps, agent.gamma, np.mean(scores_window)))\n",
    "            torch.save(agent.qnetwork_local.state_dict(), 'checkpoint.pth')\n",
    "            break\n",
    "    return scores\n",
    "\n",
    "scores = dqn()\n",
    "\n",
    "# plot the scores\n",
    "fig = plt.figure()\n",
    "ax = fig.add_subplot(111)\n",
    "plt.plot(np.arange(len(scores)), scores)\n",
    "plt.ylabel('Score')\n",
    "plt.xlabel('Episode #')\n",
    "plt.show()\n",
    "# 18 min for 500 episodes"
   ]
  },
  {
   "cell_type": "code",
   "execution_count": null,
   "metadata": {},
   "outputs": [],
   "source": []
  }
 ],
 "metadata": {
  "kernelspec": {
   "display_name": "drlnd",
   "language": "python",
   "name": "drlnd"
  },
  "language_info": {
   "codemirror_mode": {
    "name": "ipython",
    "version": 3
   },
   "file_extension": ".py",
   "mimetype": "text/x-python",
   "name": "python",
   "nbconvert_exporter": "python",
   "pygments_lexer": "ipython3",
   "version": "3.6.13"
  }
 },
 "nbformat": 4,
 "nbformat_minor": 2
}
